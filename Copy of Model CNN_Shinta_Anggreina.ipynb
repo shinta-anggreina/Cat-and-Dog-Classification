{
  "cells": [
    {
      "cell_type": "code",
      "execution_count": 1,
      "id": "d43abc49",
      "metadata": {
        "id": "d43abc49",
        "tags": [
          "graded"
        ]
      },
      "outputs": [],
      "source": [
        "import os\n",
        "import zipfile\n",
        "import random\n",
        "import shutil\n",
        "import tensorflow as tf\n",
        "from tensorflow.keras.preprocessing.image import ImageDataGenerator\n",
        "from shutil import copyfile\n",
        "import matplotlib.pyplot as plt"
      ]
    },
    {
      "cell_type": "code",
      "execution_count": 2,
      "id": "dfe8528d",
      "metadata": {
        "id": "dfe8528d",
        "lines_to_next_cell": 2,
        "tags": [],
        "colab": {
          "base_uri": "https://localhost:8080/"
        },
        "outputId": "e57e2912-3d11-4dea-f123-af3c7b5b6795"
      },
      "outputs": [
        {
          "output_type": "stream",
          "name": "stdout",
          "text": [
            "--2023-12-25 10:26:16--  https://download.microsoft.com/download/3/E/1/3E1C3F21-ECDB-4869-8368-6DEBA77B919F/kagglecatsanddogs_5340.zip\n",
            "Resolving download.microsoft.com (download.microsoft.com)... 23.60.85.2, 2600:1408:c400:168a::317f, 2600:1408:c400:1680::317f\n",
            "Connecting to download.microsoft.com (download.microsoft.com)|23.60.85.2|:443... connected.\n",
            "HTTP request sent, awaiting response... 200 OK\n",
            "Length: 824887076 (787M) [application/octet-stream]\n",
            "Saving to: ‘/tmp/cats-and-dogs.zip’\n",
            "\n",
            "/tmp/cats-and-dogs. 100%[===================>] 786.67M   238MB/s    in 3.4s    \n",
            "\n",
            "2023-12-25 10:26:20 (230 MB/s) - ‘/tmp/cats-and-dogs.zip’ saved [824887076/824887076]\n",
            "\n"
          ]
        }
      ],
      "source": [
        "# Jika URL tidak berfungsi, kunjungi https://www.microsoft.com/en-us/download/confirmation.aspx?id=54765\n",
        "# Klik kanan pada tautan 'Download Manually' untuk mendapatkan URL baru ke dataset\n",
        "\n",
        "# Catatan: Ini adalah dataset yang sangat besar dan akan memakan waktu untuk diunduh\n",
        "\n",
        "!wget --no-check-certificate \\\n",
        "    \"https://download.microsoft.com/download/3/E/1/3E1C3F21-ECDB-4869-8368-6DEBA77B919F/kagglecatsanddogs_5340.zip\" \\\n",
        "    -O \"/tmp/cats-and-dogs.zip\"\n",
        "\n",
        "local_zip = '/tmp/cats-and-dogs.zip'\n",
        "zip_ref   = zipfile.ZipFile(local_zip, 'r')\n",
        "zip_ref.extractall('/tmp')\n",
        "zip_ref.close()"
      ]
    },
    {
      "cell_type": "markdown",
      "id": "4dd9f52b",
      "metadata": {
        "id": "4dd9f52b"
      },
      "source": [
        "Now the images are stored within the `/tmp/PetImages` directory. There is a subdirectory for each class, so one for dogs and one for cats."
      ]
    },
    {
      "cell_type": "code",
      "execution_count": 3,
      "id": "76034c9d",
      "metadata": {
        "id": "76034c9d",
        "tags": [
          "graded"
        ],
        "colab": {
          "base_uri": "https://localhost:8080/"
        },
        "outputId": "d0a4d03c-6ded-4f24-bd3b-920c5bebbc2c"
      },
      "outputs": [
        {
          "output_type": "stream",
          "name": "stdout",
          "text": [
            "Terdapat 12500 gambar anjing.\n",
            "Terdapat 12500 gambar kucing.\n"
          ]
        }
      ],
      "source": [
        "# Path sumber dataset\n",
        "source_path = '/tmp/PetImages'\n",
        "\n",
        "# Path untuk gambar anjing dan kucing\n",
        "source_path_dogs = os.path.join(source_path, 'Dog')\n",
        "source_path_cats = os.path.join(source_path, 'Cat')\n",
        "\n",
        "# Menghapus semua file non-gambar (ada dua file .db dalam dataset)\n",
        "!find /tmp/PetImages/ -type f ! -name \"*.jpg\" -exec rm {} +\n",
        "\n",
        "# os.listdir mengembalikan daftar yang berisi semua file di bawah jalur yang diberikan\n",
        "print(f\"Terdapat {len(os.listdir(source_path_dogs))} gambar anjing.\")\n",
        "print(f\"Terdapat {len(os.listdir(source_path_cats))} gambar kucing.\")"
      ]
    },
    {
      "cell_type": "code",
      "execution_count": 4,
      "id": "1e6c840a",
      "metadata": {
        "cellView": "code",
        "id": "1e6c840a",
        "tags": [
          "graded"
        ]
      },
      "outputs": [],
      "source": [
        "# Tentukan direktori root\n",
        "root_dir = '/tmp/cats-v-dogs'\n",
        "\n",
        "# Kosongkan direktori untuk mencegah FileExistsError jika fungsi dijalankan beberapa kali\n",
        "if os.path.exists(root_dir):\n",
        "  shutil.rmtree(root_dir)\n",
        "\n",
        "# FUNGSI PENILAI: create_train_val_dirs\n",
        "def create_train_val_dirs(root_path):\n",
        "  # Buat direktori dengan subdirektori perantara\n",
        "  os.makedirs(os.path.join(root_path, 'training'))\n",
        "  os.makedirs(os.path.join(f'{root_path}/training', 'dogs'))\n",
        "  os.makedirs(os.path.join(f'{root_path}/training', 'cats'))\n",
        "  os.makedirs(os.path.join(root_path, 'validation'))\n",
        "  os.makedirs(os.path.join(f'{root_path}/validation', 'dogs'))\n",
        "  os.makedirs(os.path.join(f'{root_path}/validation', 'cats'))\n",
        "\n",
        "\n",
        "try:\n",
        "  create_train_val_dirs(root_path=root_dir)\n",
        "except FileExistsError:\n",
        "  print(\"Anda seharusnya tidak melihat ini karena direktori atas telah dihapus sebelumnya\")"
      ]
    },
    {
      "cell_type": "code",
      "execution_count": 5,
      "id": "08f735fe",
      "metadata": {
        "id": "08f735fe",
        "tags": [
          "graded"
        ],
        "colab": {
          "base_uri": "https://localhost:8080/"
        },
        "outputId": "0f20c284-2597-479b-b2dc-ca6fb3f083dc"
      },
      "outputs": [
        {
          "output_type": "stream",
          "name": "stdout",
          "text": [
            "/tmp/cats-v-dogs/validation\n",
            "/tmp/cats-v-dogs/training\n",
            "/tmp/cats-v-dogs/validation/dogs\n",
            "/tmp/cats-v-dogs/validation/cats\n",
            "/tmp/cats-v-dogs/training/dogs\n",
            "/tmp/cats-v-dogs/training/cats\n"
          ]
        }
      ],
      "source": [
        "# Uji fungsi create_train_val_dirs\n",
        "\n",
        "for rootdir, dirs, files in os.walk(root_dir):\n",
        "    for subdir in dirs:\n",
        "        print(os.path.join(rootdir, subdir))"
      ]
    },
    {
      "cell_type": "code",
      "execution_count": 6,
      "id": "e1c123a7",
      "metadata": {
        "cellView": "code",
        "id": "e1c123a7",
        "tags": [
          "graded"
        ]
      },
      "outputs": [],
      "source": [
        "# FUNGSI BERTINGKAT: split_data\n",
        "def split_data(SOURCE_DIR, TRAINING_DIR, VALIDATION_DIR, SPLIT_SIZE):\n",
        "\n",
        "  # Mengacak daftar\n",
        "  shuffled_source = random.sample(os.listdir(SOURCE_DIR), len(os.listdir(SOURCE_DIR)))\n",
        "\n",
        "  # Menemukan total jumlah file di direktori pelatihan\n",
        "  training_number = int(len(shuffled_source) * SPLIT_SIZE)\n",
        "\n",
        "  i = 0\n",
        "  target = TRAINING_DIR\n",
        "\n",
        "  for item in shuffled_source:\n",
        "    item_source = os.path.join(SOURCE_DIR, item)\n",
        "    if os.path.getsize(item_source) == 0:\n",
        "      print(f'{item} is zero length, so ignoring.')\n",
        "    else:\n",
        "      copyfile(item_source, os.path.join(target, item))\n",
        "      i += 1\n",
        "\n",
        "    # Beralih target copy ke VALIDASI\n",
        "    if i == training_number:\n",
        "      target = VALIDATION_DIR"
      ]
    },
    {
      "cell_type": "code",
      "execution_count": 7,
      "id": "7f488106",
      "metadata": {
        "id": "7f488106",
        "tags": [
          "graded"
        ],
        "colab": {
          "base_uri": "https://localhost:8080/"
        },
        "outputId": "7af65e77-51d0-4a29-b367-94bd72b3ac10"
      },
      "outputs": [
        {
          "output_type": "stream",
          "name": "stdout",
          "text": [
            "666.jpg is zero length, so ignoring.\n",
            "11702.jpg is zero length, so ignoring.\n",
            "\n",
            "\n",
            "Direktori kucing asli memiliki 12500 gambar\n",
            "Direktori anjing asli memiliki 12500 gambar\n",
            "\n",
            "Ada 11250 gambar kucing untuk pelatihan\n",
            "Ada 11250 gambar anjing untuk pelatihan\n",
            "Ada 1249 gambar kucing untuk validasi\n",
            "Ada 1249 gambar anjing untuk validasi\n"
          ]
        }
      ],
      "source": [
        "# Tes fungsi split_data\n",
        "\n",
        "# Tentukan path direktori\n",
        "CAT_SOURCE_DIR = \"/tmp/PetImages/Cat/\"\n",
        "DOG_SOURCE_DIR = \"/tmp/PetImages/Dog/\"\n",
        "\n",
        "TRAINING_DIR = \"/tmp/cats-v-dogs/training/\"\n",
        "VALIDATION_DIR = \"/tmp/cats-v-dogs/validation/\"\n",
        "\n",
        "TRAINING_CATS_DIR = os.path.join(TRAINING_DIR, \"cats/\")\n",
        "VALIDATION_CATS_DIR = os.path.join(VALIDATION_DIR, \"cats/\")\n",
        "\n",
        "TRAINING_DOGS_DIR = os.path.join(TRAINING_DIR, \"dogs/\")\n",
        "VALIDATION_DOGS_DIR = os.path.join(VALIDATION_DIR, \"dogs/\")\n",
        "\n",
        "# Kosongkan direktori jika sel telah dijalankan beberapa kali\n",
        "if len(os.listdir(TRAINING_CATS_DIR)) > 0:\n",
        "  for file in os.scandir(TRAINING_CATS_DIR):\n",
        "    os.remove(file.path)\n",
        "if len(os.listdir(TRAINING_DOGS_DIR)) > 0:\n",
        "  for file in os.scandir(TRAINING_DOGS_DIR):\n",
        "    os.remove(file.path)\n",
        "if len(os.listdir(VALIDATION_CATS_DIR)) > 0:\n",
        "  for file in os.scandir(VALIDATION_CATS_DIR):\n",
        "    os.remove(file.path)\n",
        "if len(os.listdir(VALIDATION_DOGS_DIR)) > 0:\n",
        "  for file in os.scandir(VALIDATION_DOGS_DIR):\n",
        "    os.remove(file.path)\n",
        "\n",
        "# Tentukan proporsi gambar yang akan digunakan untuk pelatihan\n",
        "split_size = .9\n",
        "\n",
        "# Jalankan fungsi\n",
        "# CAT_SOURCE_DIR akan memuat gambar kucing, DOG_SOURCE_DIR akan memuat gambar anjing\n",
        "# Catatan: Pesan tentang gambar dengan panjang nol akan ditampilkan\n",
        "split_data(CAT_SOURCE_DIR, TRAINING_CATS_DIR, VALIDATION_CATS_DIR, split_size)\n",
        "split_data(DOG_SOURCE_DIR, TRAINING_DOGS_DIR, VALIDATION_DOGS_DIR, split_size)\n",
        "\n",
        "# Periksa jumlah gambar dan bagiannya sesuai dengan yang diharapkan\n",
        "\n",
        "# Direktori kucing dan anjing asli harus tetap tidak berubah karena fungsi ini melakukan salinan\n",
        "print(f\"\\n\\nDirektori kucing asli memiliki {len(os.listdir(CAT_SOURCE_DIR))} gambar\")\n",
        "print(f\"Direktori anjing asli memiliki {len(os.listdir(DOG_SOURCE_DIR))} gambar\\n\")\n",
        "\n",
        "# Jumlah gambar untuk pelatihan dan validasi\n",
        "print(f\"Ada {len(os.listdir(TRAINING_CATS_DIR))} gambar kucing untuk pelatihan\")\n",
        "print(f\"Ada {len(os.listdir(TRAINING_DOGS_DIR))} gambar anjing untuk pelatihan\")\n",
        "print(f\"Ada {len(os.listdir(VALIDATION_CATS_DIR))} gambar kucing untuk validasi\")\n",
        "print(f\"Ada {len(os.listdir(VALIDATION_DOGS_DIR))} gambar anjing untuk validasi\")"
      ]
    },
    {
      "cell_type": "code",
      "execution_count": 8,
      "id": "24714cb2",
      "metadata": {
        "cellView": "code",
        "id": "24714cb2",
        "tags": [
          "graded"
        ]
      },
      "outputs": [],
      "source": [
        "# GRADED FUNCTION: train_val_generators\n",
        "def train_val_generators(TRAINING_DIR, VALIDATION_DIR):\n",
        "\n",
        "  # Instansiasi kelas ImageDataGenerator (jangan lupa atur argumen rescale)\n",
        "  train_datagen = ImageDataGenerator(rescale = 1./255.)\n",
        "\n",
        "  # Berikan argumen yang sesuai ke metode flow_from_directory\n",
        "  train_generator = train_datagen.flow_from_directory(directory=TRAINING_DIR,\n",
        "                                                      batch_size=45,\n",
        "                                                      class_mode='binary',\n",
        "                                                      target_size=(150, 150))\n",
        "\n",
        "  # Instansiasi kelas ImageDataGenerator (jangan lupa atur argumen rescale)\n",
        "  validation_datagen = ImageDataGenerator(rescale = 1./255.)\n",
        "\n",
        "  # Berikan argumen yang sesuai ke metode flow_from_directory\n",
        "  validation_generator = validation_datagen.flow_from_directory(directory=VALIDATION_DIR,\n",
        "                                                                batch_size=5,\n",
        "                                                                class_mode='binary',\n",
        "                                                                target_size=(150, 150))\n",
        "  return train_generator, validation_generator"
      ]
    },
    {
      "cell_type": "code",
      "execution_count": 9,
      "id": "0a13c894",
      "metadata": {
        "id": "0a13c894",
        "tags": [
          "graded"
        ],
        "colab": {
          "base_uri": "https://localhost:8080/"
        },
        "outputId": "5772dfac-93c5-46cb-c1b0-3bee8cf6ac7e"
      },
      "outputs": [
        {
          "output_type": "stream",
          "name": "stdout",
          "text": [
            "Found 22500 images belonging to 2 classes.\n",
            "Found 2498 images belonging to 2 classes.\n"
          ]
        }
      ],
      "source": [
        "# Test your generators\n",
        "train_generator, validation_generator = train_val_generators(TRAINING_DIR, VALIDATION_DIR)"
      ]
    },
    {
      "cell_type": "code",
      "source": [
        "# grader-required-cell\n",
        "\n",
        "# GRADED FUNCTION: create_model\n",
        "def create_model():\n",
        "  # DEFINISIKAN MODEL KERAS UNTUK KLASIFIKASI KUCING VS ANJING\n",
        "  # GUNAKAN SETIDAKNYA 3 LAYER KONVOLUSI\n",
        "\n",
        "  model = tf.keras.models.Sequential([\n",
        "      # Perhatikan bahwa bentuk input adalah ukuran gambar yang diinginkan 150x150 dengan 3 byte warna\n",
        "      tf.keras.layers.Conv2D(16, (3,3), activation='relu', input_shape=(150, 150, 3)),\n",
        "      tf.keras.layers.MaxPooling2D(2,2),\n",
        "      tf.keras.layers.Conv2D(32, (3,3), activation='relu'),\n",
        "      tf.keras.layers.MaxPooling2D(2,2),\n",
        "      tf.keras.layers.Conv2D(64, (3,3), activation='relu'),\n",
        "      tf.keras.layers.MaxPooling2D(2,2),\n",
        "      # Flatten hasilnya untuk dimasukkan ke dalam DNN\n",
        "      tf.keras.layers.Flatten(),\n",
        "      # 512 neuron di hidden layer\n",
        "      tf.keras.layers.Dense(512, activation='relu'),\n",
        "      # Hanya 1 neuron output. Ini akan berisi nilai 0-1, di mana 0 untuk satu kelas ('kucing') dan 1 untuk kelas lainnya ('anjing')\n",
        "      tf.keras.layers.Dense(1, activation='sigmoid')\n",
        "  ])\n",
        "\n",
        "  from tensorflow.keras.optimizers import RMSprop\n",
        "  model.compile(optimizer=RMSprop(learning_rate=0.001),\n",
        "                loss='binary_crossentropy',\n",
        "                metrics=['accuracy'])\n",
        "\n",
        "  return model\n"
      ],
      "metadata": {
        "id": "aUQatQH-iQb_"
      },
      "id": "aUQatQH-iQb_",
      "execution_count": 11,
      "outputs": []
    },
    {
      "cell_type": "code",
      "execution_count": 12,
      "id": "87cbef80",
      "metadata": {
        "id": "87cbef80",
        "tags": [],
        "colab": {
          "base_uri": "https://localhost:8080/"
        },
        "outputId": "324ec502-403a-49fd-8d14-a9d6efd19919"
      },
      "outputs": [
        {
          "output_type": "stream",
          "name": "stdout",
          "text": [
            "Epoch 1/15\n",
            "498/500 [============================>.] - ETA: 0s - loss: 0.5908 - accuracy: 0.6747"
          ]
        },
        {
          "output_type": "stream",
          "name": "stderr",
          "text": [
            "/usr/local/lib/python3.10/dist-packages/PIL/TiffImagePlugin.py:858: UserWarning: Truncated File Read\n",
            "  warnings.warn(str(msg))\n"
          ]
        },
        {
          "output_type": "stream",
          "name": "stdout",
          "text": [
            "500/500 [==============================] - 54s 97ms/step - loss: 0.5906 - accuracy: 0.6748 - val_loss: 0.5225 - val_accuracy: 0.7366\n",
            "Epoch 2/15\n",
            "500/500 [==============================] - 48s 95ms/step - loss: 0.4755 - accuracy: 0.7718 - val_loss: 0.4333 - val_accuracy: 0.8062\n",
            "Epoch 3/15\n",
            "500/500 [==============================] - 46s 93ms/step - loss: 0.4105 - accuracy: 0.8075 - val_loss: 0.4234 - val_accuracy: 0.8171\n",
            "Epoch 4/15\n",
            "500/500 [==============================] - 47s 94ms/step - loss: 0.3472 - accuracy: 0.8424 - val_loss: 0.4405 - val_accuracy: 0.8187\n",
            "Epoch 5/15\n",
            "500/500 [==============================] - 47s 93ms/step - loss: 0.2714 - accuracy: 0.8845 - val_loss: 0.4005 - val_accuracy: 0.8367\n",
            "Epoch 6/15\n",
            "500/500 [==============================] - 47s 95ms/step - loss: 0.1812 - accuracy: 0.9286 - val_loss: 0.4357 - val_accuracy: 0.8331\n",
            "Epoch 7/15\n",
            "500/500 [==============================] - 48s 95ms/step - loss: 0.1004 - accuracy: 0.9617 - val_loss: 0.5812 - val_accuracy: 0.8291\n",
            "Epoch 8/15\n",
            "500/500 [==============================] - 47s 94ms/step - loss: 0.0498 - accuracy: 0.9831 - val_loss: 0.8270 - val_accuracy: 0.8331\n",
            "Epoch 9/15\n",
            "500/500 [==============================] - 48s 95ms/step - loss: 0.0326 - accuracy: 0.9907 - val_loss: 1.0370 - val_accuracy: 0.8163\n",
            "Epoch 10/15\n",
            "500/500 [==============================] - 47s 94ms/step - loss: 0.0272 - accuracy: 0.9912 - val_loss: 0.9889 - val_accuracy: 0.8191\n",
            "Epoch 11/15\n",
            "500/500 [==============================] - 46s 93ms/step - loss: 0.0195 - accuracy: 0.9948 - val_loss: 1.0419 - val_accuracy: 0.8315\n",
            "Epoch 12/15\n",
            "500/500 [==============================] - 46s 91ms/step - loss: 0.0179 - accuracy: 0.9950 - val_loss: 1.1018 - val_accuracy: 0.8475\n",
            "Epoch 13/15\n",
            "500/500 [==============================] - 49s 98ms/step - loss: 0.0227 - accuracy: 0.9942 - val_loss: 1.0624 - val_accuracy: 0.8335\n",
            "Epoch 14/15\n",
            "500/500 [==============================] - 46s 92ms/step - loss: 0.0169 - accuracy: 0.9959 - val_loss: 1.4280 - val_accuracy: 0.8207\n",
            "Epoch 15/15\n",
            "500/500 [==============================] - 46s 93ms/step - loss: 0.0106 - accuracy: 0.9969 - val_loss: 1.5102 - val_accuracy: 0.8331\n"
          ]
        }
      ],
      "source": [
        "# Get the untrained model\n",
        "model = create_model()\n",
        "\n",
        "# Train the model\n",
        "# Note that this may take some time.\n",
        "history = model.fit(train_generator,\n",
        "                    epochs=15,\n",
        "                    verbose=1,\n",
        "                    validation_data=validation_generator)"
      ]
    },
    {
      "cell_type": "code",
      "source": [
        "#-----------------------------------------------------------\n",
        "# Ambil daftar hasil daftar pada data pelatihan dan pengujian\n",
        "# set untuk setiap epoch pelatihan\n",
        "#-----------------------------------------------------------\n",
        "acc = history.history['accuracy']\n",
        "val_acc = history.history['val_accuracy']\n",
        "loss = history.history['loss']\n",
        "val_loss = history.history['val_loss']\n",
        "\n",
        "epochs = range(len(acc))  # Dapatkan jumlah epoch\n",
        "\n",
        "#------------------------------------------------\n",
        "# Plot pelatihan dan akurasi validasi per epoch\n",
        "#------------------------------------------------\n",
        "plt.plot(epochs, acc, 'r', label=\"Training Accuracy\")\n",
        "plt.plot(epochs, val_acc, 'b', label=\"Validation Accuracy\")\n",
        "plt.title('Training and Validation Accuracy')\n",
        "plt.xlabel('Epochs')\n",
        "plt.ylabel('Accuracy')\n",
        "plt.legend()\n",
        "plt.show()\n",
        "print(\"\")\n",
        "\n",
        "#------------------------------------------------\n",
        "# Plot pelatihan dan validasi loss per epoch\n",
        "#------------------------------------------------\n",
        "plt.plot(epochs, loss, 'r', label=\"Training Loss\")\n",
        "plt.plot(epochs, val_loss, 'b', label=\"Validation Loss\")\n",
        "plt.title('Training and Validation Loss')\n",
        "plt.xlabel('Epochs')\n",
        "plt.ylabel('Loss')\n",
        "plt.legend()\n",
        "plt.show()"
      ],
      "metadata": {
        "colab": {
          "base_uri": "https://localhost:8080/",
          "height": 944
        },
        "id": "Pza7Qs7TmJQM",
        "outputId": "ddad8aeb-a299-4b87-de87-f58adb85c136"
      },
      "id": "Pza7Qs7TmJQM",
      "execution_count": 13,
      "outputs": [
        {
          "output_type": "display_data",
          "data": {
            "text/plain": [
              "<Figure size 640x480 with 1 Axes>"
            ],
            "image/png": "[encoded data removed]"
          },
          "metadata": {}
        },
        {
          "output_type": "stream",
          "name": "stdout",
          "text": [
            "\n"
          ]
        },
        {
          "output_type": "display_data",
          "data": {
            "text/plain": [
              "<Figure size 640x480 with 1 Axes>"
            ],
            "image/png": "[encoded data removed]"
          },
          "metadata": {}
        }
      ]
    }
  ],
  "metadata": {
    "accelerator": "GPU",
    "kernelspec": {
      "display_name": "Python 3",
      "language": "python",
      "name": "python3"
    },
    "language_info": {
      "codemirror_mode": {
        "name": "ipython",
        "version": 3
      },
      "file_extension": ".py",
      "mimetype": "text/x-python",
      "name": "python",
      "nbconvert_exporter": "python",
      "pygments_lexer": "ipython3",
      "version": "3.7.4"
    },
    "colab": {
      "provenance": []
    }
  },
  "nbformat": 4,
  "nbformat_minor": 5
}